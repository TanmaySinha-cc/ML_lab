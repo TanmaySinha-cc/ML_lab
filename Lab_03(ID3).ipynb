{
  "nbformat": 4,
  "nbformat_minor": 0,
  "metadata": {
    "colab": {
      "provenance": [],
      "include_colab_link": true
    },
    "kernelspec": {
      "name": "python3",
      "display_name": "Python 3"
    },
    "language_info": {
      "name": "python"
    }
  },
  "cells": [
    {
      "cell_type": "markdown",
      "metadata": {
        "id": "view-in-github",
        "colab_type": "text"
      },
      "source": [
        "<a href=\"https://colab.research.google.com/github/TanmaySinha-cc/ML_lab/blob/main/Lab_03(ID3).ipynb\" target=\"_parent\"><img src=\"https://colab.research.google.com/assets/colab-badge.svg\" alt=\"Open In Colab\"/></a>"
      ]
    },
    {
      "cell_type": "code",
      "execution_count": 19,
      "metadata": {
        "id": "O7zCsMJie58Y"
      },
      "outputs": [],
      "source": [
        "import numpy as np\n",
        "import pandas as pd"
      ]
    },
    {
      "cell_type": "code",
      "source": [
        "data=pd.read_csv('play_tennis.csv')"
      ],
      "metadata": {
        "id": "ZJ-LqitLfAjT"
      },
      "execution_count": 20,
      "outputs": []
    },
    {
      "cell_type": "code",
      "source": [
        "data"
      ],
      "metadata": {
        "colab": {
          "base_uri": "https://localhost:8080/",
          "height": 488
        },
        "id": "vQTQlsDwfNDz",
        "outputId": "ac822836-dc9d-42d0-c3c4-9d2bfa7072d5"
      },
      "execution_count": 21,
      "outputs": [
        {
          "output_type": "execute_result",
          "data": {
            "text/plain": [
              "    day   outlook  temp humidity    wind play\n",
              "0    D1     Sunny   Hot     High    Weak   No\n",
              "1    D2     Sunny   Hot     High  Strong   No\n",
              "2    D3  Overcast   Hot     High    Weak  Yes\n",
              "3    D4      Rain  Mild     High    Weak  Yes\n",
              "4    D5      Rain  Cool   Normal    Weak  Yes\n",
              "5    D6      Rain  Cool   Normal  Strong   No\n",
              "6    D7  Overcast  Cool   Normal  Strong  Yes\n",
              "7    D8     Sunny  Mild     High    Weak   No\n",
              "8    D9     Sunny  Cool   Normal    Weak  Yes\n",
              "9   D10      Rain  Mild   Normal    Weak  Yes\n",
              "10  D11     Sunny  Mild   Normal  Strong  Yes\n",
              "11  D12  Overcast  Mild     High  Strong  Yes\n",
              "12  D13  Overcast   Hot   Normal    Weak  Yes\n",
              "13  D14      Rain  Mild     High  Strong   No"
            ],
            "text/html": [
              "\n",
              "  <div id=\"df-01209869-c3ad-4bcc-907d-a047f3934406\">\n",
              "    <div class=\"colab-df-container\">\n",
              "      <div>\n",
              "<style scoped>\n",
              "    .dataframe tbody tr th:only-of-type {\n",
              "        vertical-align: middle;\n",
              "    }\n",
              "\n",
              "    .dataframe tbody tr th {\n",
              "        vertical-align: top;\n",
              "    }\n",
              "\n",
              "    .dataframe thead th {\n",
              "        text-align: right;\n",
              "    }\n",
              "</style>\n",
              "<table border=\"1\" class=\"dataframe\">\n",
              "  <thead>\n",
              "    <tr style=\"text-align: right;\">\n",
              "      <th></th>\n",
              "      <th>day</th>\n",
              "      <th>outlook</th>\n",
              "      <th>temp</th>\n",
              "      <th>humidity</th>\n",
              "      <th>wind</th>\n",
              "      <th>play</th>\n",
              "    </tr>\n",
              "  </thead>\n",
              "  <tbody>\n",
              "    <tr>\n",
              "      <th>0</th>\n",
              "      <td>D1</td>\n",
              "      <td>Sunny</td>\n",
              "      <td>Hot</td>\n",
              "      <td>High</td>\n",
              "      <td>Weak</td>\n",
              "      <td>No</td>\n",
              "    </tr>\n",
              "    <tr>\n",
              "      <th>1</th>\n",
              "      <td>D2</td>\n",
              "      <td>Sunny</td>\n",
              "      <td>Hot</td>\n",
              "      <td>High</td>\n",
              "      <td>Strong</td>\n",
              "      <td>No</td>\n",
              "    </tr>\n",
              "    <tr>\n",
              "      <th>2</th>\n",
              "      <td>D3</td>\n",
              "      <td>Overcast</td>\n",
              "      <td>Hot</td>\n",
              "      <td>High</td>\n",
              "      <td>Weak</td>\n",
              "      <td>Yes</td>\n",
              "    </tr>\n",
              "    <tr>\n",
              "      <th>3</th>\n",
              "      <td>D4</td>\n",
              "      <td>Rain</td>\n",
              "      <td>Mild</td>\n",
              "      <td>High</td>\n",
              "      <td>Weak</td>\n",
              "      <td>Yes</td>\n",
              "    </tr>\n",
              "    <tr>\n",
              "      <th>4</th>\n",
              "      <td>D5</td>\n",
              "      <td>Rain</td>\n",
              "      <td>Cool</td>\n",
              "      <td>Normal</td>\n",
              "      <td>Weak</td>\n",
              "      <td>Yes</td>\n",
              "    </tr>\n",
              "    <tr>\n",
              "      <th>5</th>\n",
              "      <td>D6</td>\n",
              "      <td>Rain</td>\n",
              "      <td>Cool</td>\n",
              "      <td>Normal</td>\n",
              "      <td>Strong</td>\n",
              "      <td>No</td>\n",
              "    </tr>\n",
              "    <tr>\n",
              "      <th>6</th>\n",
              "      <td>D7</td>\n",
              "      <td>Overcast</td>\n",
              "      <td>Cool</td>\n",
              "      <td>Normal</td>\n",
              "      <td>Strong</td>\n",
              "      <td>Yes</td>\n",
              "    </tr>\n",
              "    <tr>\n",
              "      <th>7</th>\n",
              "      <td>D8</td>\n",
              "      <td>Sunny</td>\n",
              "      <td>Mild</td>\n",
              "      <td>High</td>\n",
              "      <td>Weak</td>\n",
              "      <td>No</td>\n",
              "    </tr>\n",
              "    <tr>\n",
              "      <th>8</th>\n",
              "      <td>D9</td>\n",
              "      <td>Sunny</td>\n",
              "      <td>Cool</td>\n",
              "      <td>Normal</td>\n",
              "      <td>Weak</td>\n",
              "      <td>Yes</td>\n",
              "    </tr>\n",
              "    <tr>\n",
              "      <th>9</th>\n",
              "      <td>D10</td>\n",
              "      <td>Rain</td>\n",
              "      <td>Mild</td>\n",
              "      <td>Normal</td>\n",
              "      <td>Weak</td>\n",
              "      <td>Yes</td>\n",
              "    </tr>\n",
              "    <tr>\n",
              "      <th>10</th>\n",
              "      <td>D11</td>\n",
              "      <td>Sunny</td>\n",
              "      <td>Mild</td>\n",
              "      <td>Normal</td>\n",
              "      <td>Strong</td>\n",
              "      <td>Yes</td>\n",
              "    </tr>\n",
              "    <tr>\n",
              "      <th>11</th>\n",
              "      <td>D12</td>\n",
              "      <td>Overcast</td>\n",
              "      <td>Mild</td>\n",
              "      <td>High</td>\n",
              "      <td>Strong</td>\n",
              "      <td>Yes</td>\n",
              "    </tr>\n",
              "    <tr>\n",
              "      <th>12</th>\n",
              "      <td>D13</td>\n",
              "      <td>Overcast</td>\n",
              "      <td>Hot</td>\n",
              "      <td>Normal</td>\n",
              "      <td>Weak</td>\n",
              "      <td>Yes</td>\n",
              "    </tr>\n",
              "    <tr>\n",
              "      <th>13</th>\n",
              "      <td>D14</td>\n",
              "      <td>Rain</td>\n",
              "      <td>Mild</td>\n",
              "      <td>High</td>\n",
              "      <td>Strong</td>\n",
              "      <td>No</td>\n",
              "    </tr>\n",
              "  </tbody>\n",
              "</table>\n",
              "</div>\n",
              "      <button class=\"colab-df-convert\" onclick=\"convertToInteractive('df-01209869-c3ad-4bcc-907d-a047f3934406')\"\n",
              "              title=\"Convert this dataframe to an interactive table.\"\n",
              "              style=\"display:none;\">\n",
              "        \n",
              "  <svg xmlns=\"http://www.w3.org/2000/svg\" height=\"24px\"viewBox=\"0 0 24 24\"\n",
              "       width=\"24px\">\n",
              "    <path d=\"M0 0h24v24H0V0z\" fill=\"none\"/>\n",
              "    <path d=\"M18.56 5.44l.94 2.06.94-2.06 2.06-.94-2.06-.94-.94-2.06-.94 2.06-2.06.94zm-11 1L8.5 8.5l.94-2.06 2.06-.94-2.06-.94L8.5 2.5l-.94 2.06-2.06.94zm10 10l.94 2.06.94-2.06 2.06-.94-2.06-.94-.94-2.06-.94 2.06-2.06.94z\"/><path d=\"M17.41 7.96l-1.37-1.37c-.4-.4-.92-.59-1.43-.59-.52 0-1.04.2-1.43.59L10.3 9.45l-7.72 7.72c-.78.78-.78 2.05 0 2.83L4 21.41c.39.39.9.59 1.41.59.51 0 1.02-.2 1.41-.59l7.78-7.78 2.81-2.81c.8-.78.8-2.07 0-2.86zM5.41 20L4 18.59l7.72-7.72 1.47 1.35L5.41 20z\"/>\n",
              "  </svg>\n",
              "      </button>\n",
              "      \n",
              "  <style>\n",
              "    .colab-df-container {\n",
              "      display:flex;\n",
              "      flex-wrap:wrap;\n",
              "      gap: 12px;\n",
              "    }\n",
              "\n",
              "    .colab-df-convert {\n",
              "      background-color: #E8F0FE;\n",
              "      border: none;\n",
              "      border-radius: 50%;\n",
              "      cursor: pointer;\n",
              "      display: none;\n",
              "      fill: #1967D2;\n",
              "      height: 32px;\n",
              "      padding: 0 0 0 0;\n",
              "      width: 32px;\n",
              "    }\n",
              "\n",
              "    .colab-df-convert:hover {\n",
              "      background-color: #E2EBFA;\n",
              "      box-shadow: 0px 1px 2px rgba(60, 64, 67, 0.3), 0px 1px 3px 1px rgba(60, 64, 67, 0.15);\n",
              "      fill: #174EA6;\n",
              "    }\n",
              "\n",
              "    [theme=dark] .colab-df-convert {\n",
              "      background-color: #3B4455;\n",
              "      fill: #D2E3FC;\n",
              "    }\n",
              "\n",
              "    [theme=dark] .colab-df-convert:hover {\n",
              "      background-color: #434B5C;\n",
              "      box-shadow: 0px 1px 3px 1px rgba(0, 0, 0, 0.15);\n",
              "      filter: drop-shadow(0px 1px 2px rgba(0, 0, 0, 0.3));\n",
              "      fill: #FFFFFF;\n",
              "    }\n",
              "  </style>\n",
              "\n",
              "      <script>\n",
              "        const buttonEl =\n",
              "          document.querySelector('#df-01209869-c3ad-4bcc-907d-a047f3934406 button.colab-df-convert');\n",
              "        buttonEl.style.display =\n",
              "          google.colab.kernel.accessAllowed ? 'block' : 'none';\n",
              "\n",
              "        async function convertToInteractive(key) {\n",
              "          const element = document.querySelector('#df-01209869-c3ad-4bcc-907d-a047f3934406');\n",
              "          const dataTable =\n",
              "            await google.colab.kernel.invokeFunction('convertToInteractive',\n",
              "                                                     [key], {});\n",
              "          if (!dataTable) return;\n",
              "\n",
              "          const docLinkHtml = 'Like what you see? Visit the ' +\n",
              "            '<a target=\"_blank\" href=https://colab.research.google.com/notebooks/data_table.ipynb>data table notebook</a>'\n",
              "            + ' to learn more about interactive tables.';\n",
              "          element.innerHTML = '';\n",
              "          dataTable['output_type'] = 'display_data';\n",
              "          await google.colab.output.renderOutput(dataTable, element);\n",
              "          const docLink = document.createElement('div');\n",
              "          docLink.innerHTML = docLinkHtml;\n",
              "          element.appendChild(docLink);\n",
              "        }\n",
              "      </script>\n",
              "    </div>\n",
              "  </div>\n",
              "  "
            ]
          },
          "metadata": {},
          "execution_count": 21
        }
      ]
    },
    {
      "cell_type": "code",
      "source": [
        "X=data.iloc[:,1:-1].values\n",
        "Y=data.iloc[:,-1].values"
      ],
      "metadata": {
        "id": "BHCLrXyafPrk"
      },
      "execution_count": 22,
      "outputs": []
    },
    {
      "cell_type": "code",
      "source": [
        "X"
      ],
      "metadata": {
        "colab": {
          "base_uri": "https://localhost:8080/"
        },
        "id": "kvP99m6ufU1P",
        "outputId": "9e6bd35f-6859-4ac5-ac82-80cd090a8625"
      },
      "execution_count": 23,
      "outputs": [
        {
          "output_type": "execute_result",
          "data": {
            "text/plain": [
              "array([['Sunny', 'Hot', 'High', 'Weak'],\n",
              "       ['Sunny', 'Hot', 'High', 'Strong'],\n",
              "       ['Overcast', 'Hot', 'High', 'Weak'],\n",
              "       ['Rain', 'Mild', 'High', 'Weak'],\n",
              "       ['Rain', 'Cool', 'Normal', 'Weak'],\n",
              "       ['Rain', 'Cool', 'Normal', 'Strong'],\n",
              "       ['Overcast', 'Cool', 'Normal', 'Strong'],\n",
              "       ['Sunny', 'Mild', 'High', 'Weak'],\n",
              "       ['Sunny', 'Cool', 'Normal', 'Weak'],\n",
              "       ['Rain', 'Mild', 'Normal', 'Weak'],\n",
              "       ['Sunny', 'Mild', 'Normal', 'Strong'],\n",
              "       ['Overcast', 'Mild', 'High', 'Strong'],\n",
              "       ['Overcast', 'Hot', 'Normal', 'Weak'],\n",
              "       ['Rain', 'Mild', 'High', 'Strong']], dtype=object)"
            ]
          },
          "metadata": {},
          "execution_count": 23
        }
      ]
    },
    {
      "cell_type": "code",
      "source": [
        "Y"
      ],
      "metadata": {
        "colab": {
          "base_uri": "https://localhost:8080/"
        },
        "id": "RLBez3ZSfXXe",
        "outputId": "34a70bec-d291-47c7-a499-83402c5e5e01"
      },
      "execution_count": 24,
      "outputs": [
        {
          "output_type": "execute_result",
          "data": {
            "text/plain": [
              "array(['No', 'No', 'Yes', 'Yes', 'Yes', 'No', 'Yes', 'No', 'Yes', 'Yes',\n",
              "       'Yes', 'Yes', 'Yes', 'No'], dtype=object)"
            ]
          },
          "metadata": {},
          "execution_count": 24
        }
      ]
    },
    {
      "cell_type": "code",
      "source": [
        "from sklearn.preprocessing import LabelEncoder\n",
        "le=LabelEncoder()\n",
        "Y=le.fit_transform(Y)"
      ],
      "metadata": {
        "id": "KJCt_2bhhGap"
      },
      "execution_count": 25,
      "outputs": []
    },
    {
      "cell_type": "code",
      "source": [
        "Y"
      ],
      "metadata": {
        "colab": {
          "base_uri": "https://localhost:8080/"
        },
        "id": "M85Cy72AhITY",
        "outputId": "b062bec7-4f17-413a-cd61-ffc79978249c"
      },
      "execution_count": 26,
      "outputs": [
        {
          "output_type": "execute_result",
          "data": {
            "text/plain": [
              "array([0, 0, 1, 1, 1, 0, 1, 0, 1, 1, 1, 1, 1, 0])"
            ]
          },
          "metadata": {},
          "execution_count": 26
        }
      ]
    },
    {
      "cell_type": "code",
      "source": [
        "#STEP1) CALCULATE ENTROPY OF CLASS"
      ],
      "metadata": {
        "id": "PxsdXxkwgK1x"
      },
      "execution_count": 27,
      "outputs": []
    },
    {
      "cell_type": "code",
      "source": [
        "import math"
      ],
      "metadata": {
        "id": "E5hJ0wO3iIe8"
      },
      "execution_count": 28,
      "outputs": []
    },
    {
      "cell_type": "code",
      "source": [
        "p=0\n",
        "for i in range(len(Y)):\n",
        "  if(Y[i]==1):\n",
        "    p=p+1\n",
        "l=len(Y)\n",
        "n=l-p\n",
        "print('p=',p)\n",
        "print('len(Y)=',l)\n",
        "x1=p/l\n",
        "x2=n/l\n",
        "print('no. of positive rows=',p)\n",
        "print('no. of negative rows=',n)\n",
        "E_class=-(x1)*math.log(x1,2)-(x2)*math.log(x2,2)\n",
        "print('E_class=',E_class)"
      ],
      "metadata": {
        "colab": {
          "base_uri": "https://localhost:8080/"
        },
        "id": "0AtI-aD3g8jx",
        "outputId": "5579e189-2318-42d0-f50b-332d3c687e6d"
      },
      "execution_count": 29,
      "outputs": [
        {
          "output_type": "stream",
          "name": "stdout",
          "text": [
            "p= 9\n",
            "len(Y)= 14\n",
            "no. of positive rows= 9\n",
            "no. of negative rows= 5\n",
            "E_class= 0.9402859586706309\n"
          ]
        }
      ]
    },
    {
      "cell_type": "code",
      "source": [
        "#STEP1) CALCULATE ENTROPY OF EACH ATTRIBUTE"
      ],
      "metadata": {
        "id": "LTpLZXzvjQ-b"
      },
      "execution_count": 30,
      "outputs": []
    },
    {
      "cell_type": "code",
      "source": [
        "rows = len(X)\n",
        "print('no. of rows=',rows)  \n",
        "cols = len(X[0])\n",
        "print('no. of attributes=',cols)  "
      ],
      "metadata": {
        "colab": {
          "base_uri": "https://localhost:8080/"
        },
        "id": "4TSTiPJ6jfz5",
        "outputId": "5ae47a31-a063-48b8-f2fc-c16f67f7c9a4"
      },
      "execution_count": 31,
      "outputs": [
        {
          "output_type": "stream",
          "name": "stdout",
          "text": [
            "no. of rows= 14\n",
            "no. of attributes= 4\n"
          ]
        }
      ]
    },
    {
      "cell_type": "code",
      "source": [
        "U1=np.unique(data.outlook)\n",
        "U2=np.unique(data.temp)\n",
        "U3=np.unique(data.humidity)\n",
        "U4=np.unique(data.wind)"
      ],
      "metadata": {
        "id": "ADdc2SIrj0dZ"
      },
      "execution_count": 32,
      "outputs": []
    },
    {
      "cell_type": "code",
      "source": [
        "print('Unique values of each column:-')\n",
        "print('for outlook: ',U1)\n",
        "print('for temp: ',U2)\n",
        "print('for humidity: ',U3)\n",
        "print('for wind: ',U4)"
      ],
      "metadata": {
        "colab": {
          "base_uri": "https://localhost:8080/"
        },
        "id": "ARB3w5-ekez2",
        "outputId": "793cd8e9-4d7a-48e6-b529-bb81bd7a04b4"
      },
      "execution_count": 33,
      "outputs": [
        {
          "output_type": "stream",
          "name": "stdout",
          "text": [
            "Unique values of each column:-\n",
            "for outlook:  ['Overcast' 'Rain' 'Sunny']\n",
            "for temp:  ['Cool' 'Hot' 'Mild']\n",
            "for humidity:  ['High' 'Normal']\n",
            "for wind:  ['Strong' 'Weak']\n"
          ]
        }
      ]
    },
    {
      "cell_type": "code",
      "source": [
        "#FOR OUTLOOK COLUMN:-"
      ],
      "metadata": {
        "id": "BV7Zd-L_mhQi"
      },
      "execution_count": 34,
      "outputs": []
    },
    {
      "cell_type": "code",
      "source": [
        "Ans={\"Outlook\":[],\"temp\":[],\"humidity\":[],\"wind\":[],\"play\":[]};"
      ],
      "metadata": {
        "id": "TyblxlAvwxaq"
      },
      "execution_count": 35,
      "outputs": []
    },
    {
      "cell_type": "code",
      "source": [
        "E1=[]\n",
        "T1=[]\n",
        "for i in range(len(U1)):\n",
        "  a=b=t=0\n",
        "  for j in range(len(Y)):\n",
        "    if(Y[j]==1 and X[j][0]==U1[i]):\n",
        "      a=a+1\n",
        "    if(Y[j]==0 and X[j][0]==U1[i]):\n",
        "      b=b+1\n",
        "  t=a+b\n",
        "  print('for ',U1[i])\n",
        "  print('no. of positive rows=',a)\n",
        "  print('no. of negative rows=',b)\n",
        "  x1=a/t\n",
        "  x2=b/t\n",
        "  if(x1==0):\n",
        "    x1=1\n",
        "  if(x2==0):\n",
        "    x2=1\n",
        "  e=-(x1)*math.log(x1,2)-(x2)*math.log(x2,2)\n",
        "  print(e)\n",
        "  E1.append(e)\n",
        "  T1.append(t)\n",
        "print(E1)\n",
        "print(T1)\n",
        "temp=0\n",
        "for k in range(len(E1)):\n",
        "  temp=temp+(T1[k]/l)*E1[k]\n",
        "ans=E_class-temp\n",
        "print('IG(S,outlook)=',ans)\n",
        "Ans[\"Outlook\"].append(ans)"
      ],
      "metadata": {
        "colab": {
          "base_uri": "https://localhost:8080/"
        },
        "id": "JijseYwsovdF",
        "outputId": "2668cfde-d9c4-490b-9f23-d077c1c0bc60"
      },
      "execution_count": 36,
      "outputs": [
        {
          "output_type": "stream",
          "name": "stdout",
          "text": [
            "for  Overcast\n",
            "no. of positive rows= 4\n",
            "no. of negative rows= 0\n",
            "-0.0\n",
            "for  Rain\n",
            "no. of positive rows= 3\n",
            "no. of negative rows= 2\n",
            "0.9709505944546686\n",
            "for  Sunny\n",
            "no. of positive rows= 2\n",
            "no. of negative rows= 3\n",
            "0.9709505944546686\n",
            "[-0.0, 0.9709505944546686, 0.9709505944546686]\n",
            "[4, 5, 5]\n",
            "IG(S,outlook)= 0.2467498197744391\n"
          ]
        }
      ]
    },
    {
      "cell_type": "code",
      "source": [
        "#FOR temp COLUMN:-"
      ],
      "metadata": {
        "id": "uB4CS9A2srX8"
      },
      "execution_count": 37,
      "outputs": []
    },
    {
      "cell_type": "code",
      "source": [
        "E2=[]\n",
        "T2=[]\n",
        "for i in range(len(U2)):\n",
        "  a=b=t=0\n",
        "  for j in range(len(Y)):\n",
        "    if(Y[j]==1 and X[j][1]==U2[i]):\n",
        "      a=a+1\n",
        "    if(Y[j]==0 and X[j][1]==U2[i]):\n",
        "      b=b+1\n",
        "  t=a+b\n",
        "  print('for ',U2[i])\n",
        "  print('no. of positive rows=',a)\n",
        "  print('no. of negative rows=',b)\n",
        "  x1=a/t\n",
        "  x2=b/t\n",
        "  if(x1==0):\n",
        "    x1=1\n",
        "  if(x2==0):\n",
        "    x2=1\n",
        "  e=-(x1)*math.log(x1,2)-(x2)*math.log(x2,2)\n",
        "  print(e)\n",
        "  E2.append(e)\n",
        "  T2.append(t)\n",
        "print(E2)\n",
        "print(T2)\n",
        "temp=0\n",
        "for k in range(len(E2)):\n",
        "  temp=temp+(T2[k]/l)*E2[k]\n",
        "ans=E_class-temp\n",
        "print('IG(S,temp)=',ans)\n",
        "Ans[\"temp\"].append(ans)"
      ],
      "metadata": {
        "colab": {
          "base_uri": "https://localhost:8080/"
        },
        "id": "cPbtDEKbuwRf",
        "outputId": "e71a95a1-5c31-4c65-8556-7aaa3ea06e29"
      },
      "execution_count": 38,
      "outputs": [
        {
          "output_type": "stream",
          "name": "stdout",
          "text": [
            "for  Cool\n",
            "no. of positive rows= 3\n",
            "no. of negative rows= 1\n",
            "0.8112781244591328\n",
            "for  Hot\n",
            "no. of positive rows= 2\n",
            "no. of negative rows= 2\n",
            "1.0\n",
            "for  Mild\n",
            "no. of positive rows= 4\n",
            "no. of negative rows= 2\n",
            "0.9182958340544896\n",
            "[0.8112781244591328, 1.0, 0.9182958340544896]\n",
            "[4, 4, 6]\n",
            "IG(S,temp)= 0.029222565658954647\n"
          ]
        }
      ]
    },
    {
      "cell_type": "code",
      "source": [
        "#FOR humidity COLUMN:-"
      ],
      "metadata": {
        "id": "zsrf9t-Lsu4N"
      },
      "execution_count": 39,
      "outputs": []
    },
    {
      "cell_type": "code",
      "source": [
        "E3=[]\n",
        "T3=[]\n",
        "for i in range(len(U3)):\n",
        "  a=b=t=0\n",
        "  for j in range(len(Y)):\n",
        "    if(Y[j]==1 and X[j][2]==U3[i]):\n",
        "      a=a+1\n",
        "    if(Y[j]==0 and X[j][2]==U3[i]):\n",
        "      b=b+1\n",
        "  t=a+b\n",
        "  print('for ',U3[i])\n",
        "  print('no. of positive rows=',a)\n",
        "  print('no. of negative rows=',b)\n",
        "  x1=a/t\n",
        "  x2=b/t\n",
        "  if(x1==0):\n",
        "    x1=1\n",
        "  if(x2==0):\n",
        "    x2=1\n",
        "  e=-(x1)*math.log(x1,2)-(x2)*math.log(x2,2)\n",
        "  print(e)\n",
        "  E3.append(e)\n",
        "  T3.append(t)\n",
        "print(E3)\n",
        "print(T3)\n",
        "temp=0\n",
        "for k in range(len(E3)):\n",
        "  temp=temp+(T3[k]/l)*E3[k]\n",
        "ans=E_class-temp\n",
        "print('IG(S,humidity)=',ans)\n",
        "Ans[\"humidity\"].append(ans)"
      ],
      "metadata": {
        "colab": {
          "base_uri": "https://localhost:8080/"
        },
        "id": "TVtlmwc5vYCo",
        "outputId": "17aac935-739d-4adb-aff3-d23f601a1877"
      },
      "execution_count": 40,
      "outputs": [
        {
          "output_type": "stream",
          "name": "stdout",
          "text": [
            "for  High\n",
            "no. of positive rows= 3\n",
            "no. of negative rows= 4\n",
            "0.9852281360342516\n",
            "for  Normal\n",
            "no. of positive rows= 6\n",
            "no. of negative rows= 1\n",
            "0.5916727785823275\n",
            "[0.9852281360342516, 0.5916727785823275]\n",
            "[7, 7]\n",
            "IG(S,humidity)= 0.15183550136234136\n"
          ]
        }
      ]
    },
    {
      "cell_type": "code",
      "source": [
        "#FOR wind COLUMN:-"
      ],
      "metadata": {
        "id": "1Wzv7DGKszVx"
      },
      "execution_count": 41,
      "outputs": []
    },
    {
      "cell_type": "code",
      "source": [
        "E4=[]\n",
        "T4=[]\n",
        "for i in range(len(U4)):\n",
        "  a=b=t=0\n",
        "  for j in range(len(Y)):\n",
        "    if(Y[j]==1 and X[j][3]==U4[i]):\n",
        "      a=a+1\n",
        "    if(Y[j]==0 and X[j][3]==U4[i]):\n",
        "      b=b+1\n",
        "  t=a+b\n",
        "  print('for ',U4[i])\n",
        "  print('no. of positive rows=',a)\n",
        "  print('no. of negative rows=',b)\n",
        "  x1=a/t\n",
        "  x2=b/t\n",
        "  if(x1==0):\n",
        "    x1=1\n",
        "  if(x2==0):\n",
        "    x2=1\n",
        "  e=-(x1)*math.log(x1,2)-(x2)*math.log(x2,2)\n",
        "  print(e)\n",
        "  E4.append(e)\n",
        "  T4.append(t)\n",
        "print(E4)\n",
        "print(T4)\n",
        "temp=0\n",
        "for k in range(len(E4)):\n",
        "  temp=temp+(T4[k]/l)*E4[k]\n",
        "ans=E_class-temp\n",
        "print('IG(S,wind)=',ans)\n",
        "Ans[\"wind\"].append(ans)"
      ],
      "metadata": {
        "colab": {
          "base_uri": "https://localhost:8080/"
        },
        "id": "i8a02ZZasahL",
        "outputId": "999e0034-2bf4-4a58-a64e-06cccf0b585d"
      },
      "execution_count": 42,
      "outputs": [
        {
          "output_type": "stream",
          "name": "stdout",
          "text": [
            "for  Strong\n",
            "no. of positive rows= 3\n",
            "no. of negative rows= 3\n",
            "1.0\n",
            "for  Weak\n",
            "no. of positive rows= 6\n",
            "no. of negative rows= 2\n",
            "0.8112781244591328\n",
            "[1.0, 0.8112781244591328]\n",
            "[6, 8]\n",
            "IG(S,wind)= 0.04812703040826927\n"
          ]
        }
      ]
    },
    {
      "cell_type": "code",
      "source": [
        "print(Ans)"
      ],
      "metadata": {
        "colab": {
          "base_uri": "https://localhost:8080/"
        },
        "id": "JhOrRmIhw_Qy",
        "outputId": "74c4d496-500e-4a5b-903b-2a2d0d5dea7d"
      },
      "execution_count": 43,
      "outputs": [
        {
          "output_type": "stream",
          "name": "stdout",
          "text": [
            "{'Outlook': [0.2467498197744391], 'temp': [0.029222565658954647], 'humidity': [0.15183550136234136], 'wind': [0.04812703040826927], 'play': []}\n"
          ]
        }
      ]
    },
    {
      "cell_type": "code",
      "source": [
        "print(\"Root node will be : \",max(Ans))"
      ],
      "metadata": {
        "colab": {
          "base_uri": "https://localhost:8080/"
        },
        "id": "fuoSTjV2xX2Z",
        "outputId": "3baa43ff-48f7-46af-c9b8-7c80612c91d6"
      },
      "execution_count": 44,
      "outputs": [
        {
          "output_type": "stream",
          "name": "stdout",
          "text": [
            "Root node will be :  wind\n"
          ]
        }
      ]
    }
  ]
}